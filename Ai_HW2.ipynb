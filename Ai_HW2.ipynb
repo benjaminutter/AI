{
  "nbformat": 4,
  "nbformat_minor": 0,
  "metadata": {
    "colab": {
      "provenance": [],
      "authorship_tag": "ABX9TyOOX7baXj79uQou3IN68zrP",
      "include_colab_link": true
    },
    "kernelspec": {
      "name": "python3",
      "display_name": "Python 3"
    },
    "language_info": {
      "name": "python"
    }
  },
  "cells": [
    {
      "cell_type": "markdown",
      "metadata": {
        "id": "view-in-github",
        "colab_type": "text"
      },
      "source": [
        "<a href=\"https://colab.research.google.com/github/benjaminutter/AI/blob/main/Ai_HW2.ipynb\" target=\"_parent\"><img src=\"https://colab.research.google.com/assets/colab-badge.svg\" alt=\"Open In Colab\"/></a>"
      ]
    },
    {
      "cell_type": "code",
      "execution_count": 1,
      "metadata": {
        "colab": {
          "base_uri": "https://localhost:8080/"
        },
        "id": "Zn3dMIp-gz2z",
        "outputId": "8a92fd0c-8585-4350-ac33-41d826ef8975"
      },
      "outputs": [
        {
          "output_type": "stream",
          "name": "stdout",
          "text": [
            "Jug 1: 0 | Jug 2: 0\n",
            "Jug 1: 5 | Jug 2: 0\n",
            "Jug 1: 2 | Jug 2: 3\n",
            "Jug 1: 2 | Jug 2: 0\n",
            "Jug 1: 0 | Jug 2: 2\n",
            "Jug 1: 5 | Jug 2: 2\n",
            "Jug 1: 4 | Jug 2: 3\n",
            "Target amount reached!\n"
          ]
        }
      ],
      "source": [
        "class WaterJugPuzzle:\n",
        "    def __init__(self, jug1_cap, jug2_cap, target):\n",
        "        self.jug1_cap = jug1_cap\n",
        "        self.jug2_cap = jug2_cap\n",
        "        self.target = target\n",
        "        self.jug1_current = 0\n",
        "        self.jug2_current = 0\n",
        "\n",
        "    def solve_puzzle(self):\n",
        "        while self.jug1_current != self.target and self.jug2_current != self.target:\n",
        "            print(f\"Jug 1: {self.jug1_current} | Jug 2: {self.jug2_current}\")\n",
        "\n",
        "            # fill 1 if it's empty\n",
        "            if self.jug1_current == 0:\n",
        "                self.jug1_current = self.jug1_cap\n",
        "            # pour water from 1 to 2\n",
        "            elif self.jug1_current > 0 and self.jug2_current < self.jug2_cap:\n",
        "                pour_amount = min(self.jug1_current, self.jug2_cap - self.jug2_current)\n",
        "                self.jug1_current -= pour_amount\n",
        "                self.jug2_current += pour_amount\n",
        "            # empty 2 if it's full\n",
        "            elif self.jug2_current == self.jug2_cap:\n",
        "                self.jug2_current = 0\n",
        "            # pour water from 2 to 1\n",
        "            elif self.jug2_current > 0 and self.jug1_current < self.jug1_cap:\n",
        "                pour_amount = min(self.jug2_current, self.jug1_cap - self.jug1_current)\n",
        "                self.jug2_current -= pour_amount\n",
        "                self.jug1_current += pour_amount\n",
        "\n",
        "        print(f\"Jug 1: {self.jug1_current} | Jug 2: {self.jug2_current}\")\n",
        "        print(\"Target amount reached!\")\n",
        "\n",
        "# set capacities and target amount\n",
        "jug_instance = WaterJugPuzzle(jug1_cap=5, jug2_cap=3, target=4)\n",
        "\n",
        "# solve\n",
        "jug_instance.solve_puzzle()\n"
      ]
    }
  ]
}