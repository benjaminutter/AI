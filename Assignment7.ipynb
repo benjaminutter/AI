{
  "nbformat": 4,
  "nbformat_minor": 0,
  "metadata": {
    "colab": {
      "provenance": [],
      "authorship_tag": "ABX9TyP9U1Ft8nu4VTN5THTu0XyZ",
      "include_colab_link": true
    },
    "kernelspec": {
      "name": "python3",
      "display_name": "Python 3"
    },
    "language_info": {
      "name": "python"
    }
  },
  "cells": [
    {
      "cell_type": "markdown",
      "metadata": {
        "id": "view-in-github",
        "colab_type": "text"
      },
      "source": [
        "<a href=\"https://colab.research.google.com/github/benjaminutter/AI/blob/main/Assignment7.ipynb\" target=\"_parent\"><img src=\"https://colab.research.google.com/assets/colab-badge.svg\" alt=\"Open In Colab\"/></a>"
      ]
    },
    {
      "cell_type": "code",
      "execution_count": null,
      "metadata": {
        "colab": {
          "base_uri": "https://localhost:8080/"
        },
        "id": "HAYxbmHSjrgo",
        "outputId": "6fca7343-d2fa-476d-f4fd-22fa70b2f9b3"
      },
      "outputs": [
        {
          "output_type": "stream",
          "name": "stdout",
          "text": [
            "Mounted at /content/drive\n"
          ]
        }
      ],
      "source": [
        "import pandas as pd\n",
        "import os\n",
        "import cv2\n",
        "import random\n",
        "import numpy as np\n",
        "import pandas as pd\n",
        "import seaborn as sns\n",
        "import plotly.express as px\n",
        "import matplotlib.pyplot as plt\n",
        "\n",
        "import sklearn as sk\n",
        "import tensorflow as tf\n",
        "from sklearn.preprocessing import StandardScaler\n",
        "\n",
        "from keras.datasets import mnist\n",
        "from keras.models import Sequential\n",
        "from sklearn.metrics import confusion_matrix\n",
        "from sklearn.model_selection import train_test_split\n",
        "from sklearn.metrics import classification_report\n",
        "\n",
        "from sklearn.neural_network import MLPClassifier\n",
        "from sklearn.metrics import accuracy_score\n",
        "from google.colab import drive\n",
        "\n",
        "drive.mount('/content/drive')\n",
        "file_path = '/content/drive/My Drive/Colab Notebooks/nasa_asteroid.csv'\n",
        "df = pd.read_csv(file_path)"
      ]
    },
    {
      "cell_type": "code",
      "source": [
        "# Data Analysis\n",
        "print('Duplicates:', df.duplicated().sum())\n",
        "print('Missing values:', df.isnull().sum().sum())\n",
        "print('Data Shape:', df.shape)\n",
        "df.info()"
      ],
      "metadata": {
        "colab": {
          "base_uri": "https://localhost:8080/"
        },
        "id": "qoy5tKHhkV18",
        "outputId": "80ebb78c-2813-4496-a05c-caf8d521fade"
      },
      "execution_count": null,
      "outputs": [
        {
          "output_type": "stream",
          "name": "stdout",
          "text": [
            "Duplicates: 0\n",
            "Missing values: 0\n",
            "Data Shape: (4687, 40)\n",
            "<class 'pandas.core.frame.DataFrame'>\n",
            "RangeIndex: 4687 entries, 0 to 4686\n",
            "Data columns (total 40 columns):\n",
            " #   Column                        Non-Null Count  Dtype  \n",
            "---  ------                        --------------  -----  \n",
            " 0   Neo Reference ID              4687 non-null   int64  \n",
            " 1   Name                          4687 non-null   int64  \n",
            " 2   Absolute Magnitude            4687 non-null   float64\n",
            " 3   Est Dia in KM(min)            4687 non-null   float64\n",
            " 4   Est Dia in KM(max)            4687 non-null   float64\n",
            " 5   Est Dia in M(min)             4687 non-null   float64\n",
            " 6   Est Dia in M(max)             4687 non-null   float64\n",
            " 7   Est Dia in Miles(min)         4687 non-null   float64\n",
            " 8   Est Dia in Miles(max)         4687 non-null   float64\n",
            " 9   Est Dia in Feet(min)          4687 non-null   float64\n",
            " 10  Est Dia in Feet(max)          4687 non-null   float64\n",
            " 11  Close Approach Date           4687 non-null   object \n",
            " 12  Epoch Date Close Approach     4687 non-null   int64  \n",
            " 13  Relative Velocity km per sec  4687 non-null   float64\n",
            " 14  Relative Velocity km per hr   4687 non-null   float64\n",
            " 15  Miles per hour                4687 non-null   float64\n",
            " 16  Miss Dist.(Astronomical)      4687 non-null   float64\n",
            " 17  Miss Dist.(lunar)             4687 non-null   float64\n",
            " 18  Miss Dist.(kilometers)        4687 non-null   float64\n",
            " 19  Miss Dist.(miles)             4687 non-null   float64\n",
            " 20  Orbiting Body                 4687 non-null   object \n",
            " 21  Orbit ID                      4687 non-null   int64  \n",
            " 22  Orbit Determination Date      4687 non-null   object \n",
            " 23  Orbit Uncertainity            4687 non-null   int64  \n",
            " 24  Minimum Orbit Intersection    4687 non-null   float64\n",
            " 25  Jupiter Tisserand Invariant   4687 non-null   float64\n",
            " 26  Epoch Osculation              4687 non-null   float64\n",
            " 27  Eccentricity                  4687 non-null   float64\n",
            " 28  Semi Major Axis               4687 non-null   float64\n",
            " 29  Inclination                   4687 non-null   float64\n",
            " 30  Asc Node Longitude            4687 non-null   float64\n",
            " 31  Orbital Period                4687 non-null   float64\n",
            " 32  Perihelion Distance           4687 non-null   float64\n",
            " 33  Perihelion Arg                4687 non-null   float64\n",
            " 34  Aphelion Dist                 4687 non-null   float64\n",
            " 35  Perihelion Time               4687 non-null   float64\n",
            " 36  Mean Anomaly                  4687 non-null   float64\n",
            " 37  Mean Motion                   4687 non-null   float64\n",
            " 38  Equinox                       4687 non-null   object \n",
            " 39  Hazardous                     4687 non-null   bool   \n",
            "dtypes: bool(1), float64(30), int64(5), object(4)\n",
            "memory usage: 1.4+ MB\n"
          ]
        }
      ]
    },
    {
      "cell_type": "code",
      "source": [
        "# Getting rid of unneccesary columns\n",
        "print(\"Shape before dropping: \", df.shape)\n",
        "df = df.drop(['Equinox', 'Orbit Determination Date', 'Orbiting Body', 'Neo Reference ID', 'Name', 'Epoch Date Close Approach','Close Approach Date' ], axis = 1)\n",
        "print(\"Shape after dropping: \", df.shape)"
      ],
      "metadata": {
        "colab": {
          "base_uri": "https://localhost:8080/"
        },
        "id": "ghxA23eClwLM",
        "outputId": "ed253cc4-9131-40d4-ebe7-8da8fea004c3"
      },
      "execution_count": null,
      "outputs": [
        {
          "output_type": "stream",
          "name": "stdout",
          "text": [
            "Shape before dropping:  (4687, 40)\n",
            "Shape after dropping:  (4687, 33)\n"
          ]
        }
      ]
    },
    {
      "cell_type": "markdown",
      "source": [
        "After eliminating irrelevant predictors, we're left with 33 valuable predictors to aid in forecasting whether an asteroid poses a hazard or not."
      ],
      "metadata": {
        "id": "KIbPCFTTmdzY"
      }
    },
    {
      "cell_type": "code",
      "source": [
        "# Training and test data split\n",
        "x = df.iloc[:, :-1]  #  all rows and all columns except the last one\n",
        "y = df.iloc[:, -1]   #  all rows and only the last column\n",
        "\n",
        "# Splitting into training, validation, and testing sets, then shuffling\n",
        "x_train, x_test, y_train, y_test = train_test_split(x, y, test_size=0.3, random_state=42, shuffle=True, stratify=y)\n",
        "\n",
        "# Split the training into training and sets\n",
        "x_train, x_valid, y_train, y_valid = train_test_split(x_train, y_train, test_size=0.1, random_state=42)\n",
        "\n"
      ],
      "metadata": {
        "id": "-3B428l0lw7z"
      },
      "execution_count": null,
      "outputs": []
    },
    {
      "cell_type": "markdown",
      "source": [
        "To test and train our model we split the data into 3 different sets"
      ],
      "metadata": {
        "id": "t4Heo3XVmsEI"
      }
    },
    {
      "cell_type": "code",
      "source": [
        "# Scale numeric features\n",
        "scaler = StandardScaler()\n",
        "x_train_scaled = scaler.fit_transform(x_train)\n",
        "x_test_scaled = scaler.transform(x_test)\n",
        "x_valid_scaled = scaler.transform(x_valid)"
      ],
      "metadata": {
        "id": "vqGeTr2klxQQ"
      },
      "execution_count": null,
      "outputs": []
    },
    {
      "cell_type": "markdown",
      "source": [
        "Scaler function to standardize our numerical predictors"
      ],
      "metadata": {
        "id": "sRN852bVms5r"
      }
    },
    {
      "cell_type": "code",
      "source": [
        "# Create MLPClassifier without stopping early\n",
        "mlp = MLPClassifier(hidden_layer_sizes=(100,50), max_iter=500, random_state=44)\n",
        "\n",
        "# Train classifier\n",
        "mlp.fit(x_train_scaled, y_train)\n",
        "\n",
        "# Calculate accuracies\n",
        "train_accuracy = mlp.score(x_train_scaled, y_train)\n",
        "valid_accuracy = mlp.score(x_valid_scaled, y_valid)\n",
        "test_accuracy = mlp.score(x_test_scaled, y_test)\n",
        "\n",
        "print(\"Training Accuracy:\", train_accuracy)\n",
        "print(\"Validation Accuracy:\", valid_accuracy)\n",
        "print(\"Test Accuracy:\", test_accuracy)"
      ],
      "metadata": {
        "colab": {
          "base_uri": "https://localhost:8080/"
        },
        "id": "XJA7PQ_Dl7pB",
        "outputId": "7aaa206f-e366-4082-860b-db666fda2f57"
      },
      "execution_count": null,
      "outputs": [
        {
          "output_type": "stream",
          "name": "stdout",
          "text": [
            "Training Accuracy: 1.0\n",
            "Validation Accuracy: 0.9725609756097561\n",
            "Test Accuracy: 0.9800995024875622\n"
          ]
        }
      ]
    },
    {
      "cell_type": "markdown",
      "source": [
        "After initializing and training the model, we've achieved promising accuracy with two hidden layers comprising 100 and 50 neurons, but we'll explore additional hyperparameters for further optimization"
      ],
      "metadata": {
        "id": "19Ednr6gm21i"
      }
    },
    {
      "cell_type": "code",
      "source": [
        "hyperparameters = [\n",
        "    {'hidden_layer_sizes': (150, 50)},\n",
        "    {'hidden_layer_sizes': (200, 100)},\n",
        "    {'hidden_layer_sizes': (50, 20)},\n",
        "    {'hidden_layer_sizes': (120, 40)},\n",
        "    {'hidden_layer_sizes': (70, 20)},\n",
        "    {'hidden_layer_sizes': (200, 50)},\n",
        "    {'hidden_layer_sizes': (100, 50)}\n",
        "]\n",
        "results = []\n",
        "for params in hyperparameters:\n",
        "    model = MLPClassifier(max_iter=500, random_state=44, **params)\n",
        "    model.fit(x_train_scaled, y_train)\n",
        "\n",
        "    # Calculate accuracies\n",
        "    train_accuracy = model.score(x_train_scaled, y_train)\n",
        "    valid_accuracy = model.score(x_valid_scaled, y_valid)\n",
        "\n",
        "    y_pred = model.predict(x_test_scaled)\n",
        "    accuracy = accuracy_score(y_test, y_pred)\n",
        "    results.append({'params': params, 'test accuracy': accuracy,\n",
        "                    'train accuracy': train_accuracy,\n",
        "                    'val accuracy': valid_accuracy})\n",
        "\n",
        "# Summarize results with a table\n",
        "results_df = pd.DataFrame(results)\n",
        "print('Results of hyperparameter tuning:')\n",
        "print(results_df)"
      ],
      "metadata": {
        "colab": {
          "base_uri": "https://localhost:8080/"
        },
        "id": "e8d1d9aEl8aK",
        "outputId": "d00770a8-6fe9-4486-dd82-44ed097f2cf3"
      },
      "execution_count": null,
      "outputs": [
        {
          "output_type": "stream",
          "name": "stdout",
          "text": [
            "Results of hyperparameter tuning:\n",
            "                               params  test accuracy  train accuracy  \\\n",
            "0   {'hidden_layer_sizes': (150, 50)}       0.980810             1.0   \n",
            "1  {'hidden_layer_sizes': (200, 100)}       0.981521             1.0   \n",
            "2    {'hidden_layer_sizes': (50, 20)}       0.982942             1.0   \n",
            "3   {'hidden_layer_sizes': (120, 40)}       0.979389             1.0   \n",
            "4    {'hidden_layer_sizes': (70, 20)}       0.982942             1.0   \n",
            "5   {'hidden_layer_sizes': (200, 50)}       0.979389             1.0   \n",
            "6   {'hidden_layer_sizes': (100, 50)}       0.980100             1.0   \n",
            "\n",
            "   val accuracy  \n",
            "0      0.987805  \n",
            "1      0.978659  \n",
            "2      0.978659  \n",
            "3      0.978659  \n",
            "4      0.975610  \n",
            "5      0.978659  \n",
            "6      0.972561  \n"
          ]
        }
      ]
    },
    {
      "cell_type": "markdown",
      "source": [
        "Trying more hyperparameters\n",
        "\n",
        "\n",
        "Went with the 2 hidden layers of 150 and 50 because it seemed to work best"
      ],
      "metadata": {
        "id": "jBo_Fdnhm8yU"
      }
    },
    {
      "cell_type": "code",
      "source": [
        "mlp = MLPClassifier(hidden_layer_sizes=(150,50), max_iter=500, random_state=44)"
      ],
      "metadata": {
        "id": "N10nsNI-l-4R"
      },
      "execution_count": null,
      "outputs": []
    },
    {
      "cell_type": "markdown",
      "source": [
        "Reinitializing the model with the designated number of neurons with 2 hidden layers"
      ],
      "metadata": {
        "id": "E0D0ylp2nEsK"
      }
    },
    {
      "cell_type": "code",
      "source": [
        "# Initialize lists to store accuracies of training, validation, and test\n",
        "train_accuracies = []\n",
        "valid_accuracies = []\n",
        "test_accuracies = []\n",
        "\n",
        "# Train the classifier and calculate accuracies at each iteration\n",
        "for i in range(500):\n",
        "    mlp.partial_fit(x_train_scaled, y_train, classes=np.unique(y_train))\n",
        "    train_accuracies.append(mlp.score(x_train_scaled, y_train))\n",
        "    valid_accuracies.append(mlp.score(x_valid_scaled, y_valid))\n",
        "    test_accuracies.append(mlp.score(x_test_scaled, y_test))\n",
        "\n",
        "# Plot accuracies of training, validation, and test\n",
        "plt.figure(figsize=(8, 6))\n",
        "plt.plot(range(1, 501), train_accuracies, label='Training accuracy')\n",
        "plt.plot(range(1, 501), valid_accuracies, label='Validation accuracy')\n",
        "plt.plot(range(1, 501), test_accuracies, label='Test accuracy')\n",
        "plt.xlabel('Iterations')\n",
        "plt.ylabel('Accuracy')\n",
        "plt.legend()\n",
        "plt.show()\n"
      ],
      "metadata": {
        "colab": {
          "base_uri": "https://localhost:8080/",
          "height": 542
        },
        "id": "6UU6TjbnmCTi",
        "outputId": "6e0e53a2-6df8-450d-d4c3-bcc1ed83b7f9"
      },
      "execution_count": null,
      "outputs": [
        {
          "output_type": "display_data",
          "data": {
            "text/plain": [
              "<Figure size 800x600 with 1 Axes>"
            ],
            "image/png": "[encoded data removed]"
          },
          "metadata": {}
        }
      ]
    },
    {
      "cell_type": "markdown",
      "source": [
        "Now we see that our accuracies trend upwards as we iterate more"
      ],
      "metadata": {
        "id": "L4XsHcVTnIgM"
      }
    },
    {
      "cell_type": "code",
      "source": [
        "# Displaying the loss curve\n",
        "plt.figure(figsize=(8, 6))\n",
        "plt.plot(mlp.loss_curve_)\n",
        "plt.xlabel('Iterations')\n",
        "plt.ylabel('Loss')\n",
        "plt.title('Loss Curve')\n",
        "plt.show()"
      ],
      "metadata": {
        "colab": {
          "base_uri": "https://localhost:8080/",
          "height": 564
        },
        "id": "4nmsyCpxmETG",
        "outputId": "80d8fe07-22f0-4767-e103-abe7e27797a1"
      },
      "execution_count": null,
      "outputs": [
        {
          "output_type": "display_data",
          "data": {
            "text/plain": [
              "<Figure size 800x600 with 1 Axes>"
            ],
            "image/png": "[encoded data removed]"
          },
          "metadata": {}
        }
      ]
    },
    {
      "cell_type": "markdown",
      "source": [
        "Loss curve approaches zero as we iterate more"
      ],
      "metadata": {
        "id": "5geN-dxtnN-B"
      }
    },
    {
      "cell_type": "code",
      "source": [
        "from sklearn.metrics import confusion_matrix\n",
        "import seaborn as sns\n",
        "\n",
        "# Get predicted labels for test set\n",
        "y_pred = mlp.predict(x_test_scaled)\n",
        "\n",
        "# Calculate confusion matrix\n",
        "cm = confusion_matrix(y_test, y_pred)\n",
        "\n",
        "# Display confusion matrix by heatmap\n",
        "plt.figure(figsize=(8, 6))\n",
        "sns.heatmap(cm, annot=True, fmt='d', cmap='Oranges', cbar=False)\n",
        "plt.xlabel('Predicted labels')\n",
        "plt.ylabel('True labels')\n",
        "plt.title('Confusion Matrix')\n",
        "plt.show()"
      ],
      "metadata": {
        "colab": {
          "base_uri": "https://localhost:8080/",
          "height": 564
        },
        "id": "6E-VaBBFmIsv",
        "outputId": "220293a3-fdb8-415d-97f3-84f9a981614e"
      },
      "execution_count": null,
      "outputs": [
        {
          "output_type": "display_data",
          "data": {
            "text/plain": [
              "<Figure size 800x600 with 1 Axes>"
            ],
            "image/png": "[encoded data removed]"
          },
          "metadata": {}
        }
      ]
    },
    {
      "cell_type": "markdown",
      "source": [
        "The confusion matrix tells us that we pridected 1174 of 1192 non hazardous asteroids, and 209 out of 215 hazardous ones"
      ],
      "metadata": {
        "id": "ao8pEN0CnRva"
      }
    },
    {
      "cell_type": "markdown",
      "source": [
        "Conclusion: Initially, we excluded 'Equinox', 'Orbit Determination Date', 'Orbiting Body', 'Neo Reference ID', 'Name', 'Epoch Date Close Approach', and 'Close Approach Date' from our predictor variables, as they were irrelevant for determining asteroid hazard. Also, we trained the model using two hidden layers with 100 and 50 neurons respectively, iterating over 500 cycles. After refining hyperparameters, we settled on a final model with two hidden layers containing 150 and 50 neurons. Our final test accuract was about 98%."
      ],
      "metadata": {
        "id": "yI8pJ5i4nTJA"
      }
    }
  ]
}